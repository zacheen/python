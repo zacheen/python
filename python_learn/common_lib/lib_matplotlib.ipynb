{
 "cells": [
  {
   "cell_type": "code",
   "execution_count": null,
   "id": "9e525bcd",
   "metadata": {},
   "outputs": [],
   "source": [
    "import matplotlib.pyplot as plt\n",
    "import cv2"
   ]
  },
  {
   "cell_type": "code",
   "execution_count": null,
   "id": "4f6ebe56",
   "metadata": {},
   "outputs": [],
   "source": [
    "test_file = \"\"\n",
    "cv2_pic = cv2.imread(\"lena_std.tif\", )  # tif 檔記得要加上 ,-1\n",
    "plt.imshow(cv2_pic)"
   ]
  },
  {
   "cell_type": "code",
   "execution_count": null,
   "id": "ca963375",
   "metadata": {},
   "outputs": [],
   "source": [
    "# tif 檔的默認顏色順序是 BGR\n",
    "# 而 matlab 是 RGB\n",
    "# 所以要調整順序\n",
    "cv2_pic = cv2.cvtColor(cv2_pic, cv2.COLOR_BGR2RGB)\n",
    "plt.imshow(cv2_pic)"
   ]
  },
  {
   "cell_type": "code",
   "execution_count": null,
   "id": "e07348af",
   "metadata": {},
   "outputs": [],
   "source": [
    "# 調整 顯示大小\n",
    "# 預設是 6.4, 4.8 (但我測試是 (6, 4) )\n",
    "plt.rcParams['figure.figsize'] = (12, 8)\n",
    "plt.imshow(cv2_pic)"
   ]
  },
  {
   "cell_type": "code",
   "execution_count": null,
   "id": "ff3bc6c4",
   "metadata": {},
   "outputs": [],
   "source": []
  }
 ],
 "metadata": {
  "kernelspec": {
   "display_name": "Python 3 (ipykernel)",
   "language": "python",
   "name": "python3"
  },
  "language_info": {
   "codemirror_mode": {
    "name": "ipython",
    "version": 3
   },
   "file_extension": ".py",
   "mimetype": "text/x-python",
   "name": "python",
   "nbconvert_exporter": "python",
   "pygments_lexer": "ipython3",
   "version": "3.7.13"
  }
 },
 "nbformat": 4,
 "nbformat_minor": 5
}
