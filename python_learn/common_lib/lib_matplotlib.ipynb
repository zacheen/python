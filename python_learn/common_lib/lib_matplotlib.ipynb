{
 "cells": [
  {
   "cell_type": "code",
   "execution_count": null,
   "id": "9e525bcd",
   "metadata": {},
   "outputs": [],
   "source": [
    "import matplotlib.pyplot as plt\n",
    "import cv2\n",
    "\n",
    "# 教學\n",
    "# https://learn.microsoft.com/en-us/training/modules/explore-analyze-data-with-python/5-exercise-visualize-data"
   ]
  },
  {
   "cell_type": "code",
   "execution_count": null,
   "id": "4f6ebe56",
   "metadata": {},
   "outputs": [],
   "source": [
    "test_file = \"\"\n",
    "cv2_pic = cv2.imread(\"lena_std.tif\", )  # tif 檔記得要加上 ,-1\n",
    "plt.imshow(cv2_pic)\n",
    "\n",
    "# 如果不是 ipynb 的檔案的話還要再加這個才會顯示出來\n",
    "plt.show()"
   ]
  },
  {
   "cell_type": "code",
   "execution_count": null,
   "id": "ca963375",
   "metadata": {},
   "outputs": [],
   "source": [
    "# tif 檔的默認顏色順序是 BGR\n",
    "# 而 matlab 是 RGB\n",
    "# 所以要調整順序\n",
    "cv2_pic = cv2.cvtColor(cv2_pic, cv2.COLOR_BGR2RGB)\n",
    "plt.imshow(cv2_pic)"
   ]
  },
  {
   "cell_type": "code",
   "execution_count": null,
   "id": "e07348af",
   "metadata": {},
   "outputs": [],
   "source": [
    "# 調整 顯示大小\n",
    "# 預設是 6.4, 4.8 (但我測試是 (6, 4) )\n",
    "plt.rcParams['figure.figsize'] = (12, 8)\n",
    "plt.imshow(cv2_pic)\n",
    "\n",
    "# 為了好看再設定回來\n",
    "plt.rcParams['figure.figsize'] = (6, 4)"
   ]
  },
  {
   "cell_type": "code",
   "execution_count": null,
   "id": "fca08dd6",
   "metadata": {},
   "outputs": [],
   "source": [
    "# 灰階顯示 gray\n",
    "plt.imshow(cv2_pic, cmap='gray')"
   ]
  }
 ],
 "metadata": {
  "kernelspec": {
   "display_name": "Python 3.7.13 ('base')",
   "language": "python",
   "name": "python3"
  },
  "language_info": {
   "codemirror_mode": {
    "name": "ipython",
    "version": 3
   },
   "file_extension": ".py",
   "mimetype": "text/x-python",
   "name": "python",
   "nbconvert_exporter": "python",
   "pygments_lexer": "ipython3",
   "version": "3.7.13"
  },
  "vscode": {
   "interpreter": {
    "hash": "1ad7bc37b9dbb5fc630683fa6ac3f4a09f3b221e501e9b7b281182d1132c149f"
   }
  }
 },
 "nbformat": 4,
 "nbformat_minor": 5
}
