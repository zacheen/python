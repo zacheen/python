{
 "cells": [
  {
   "cell_type": "code",
   "execution_count": null,
   "id": "9e525bcd",
   "metadata": {},
   "outputs": [],
   "source": [
    "# 通常是處理表格的 lib\n",
    "import pandas as pd"
   ]
  },
  {
   "cell_type": "code",
   "execution_count": null,
   "id": "5798ed73",
   "metadata": {},
   "outputs": [],
   "source": [
    "# 常用 function 整理\n",
    "# iloc, loc 取值\n",
    "# concat 加入新欄位\n",
    "\n",
    "# rename 為欄位命名\n",
    "\n",
    "# groupby\n",
    "# sort_values\n",
    "\n",
    "# isnull 判斷空值位置\n",
    "    # dropna\n",
    "    # fillna\n",
    "\n",
    "# == 尚未研究 ===================\n",
    "# pd.DatetimeIndex\n",
    "# .describe()"
   ]
  },
  {
   "cell_type": "code",
   "execution_count": null,
   "id": "9383a37e",
   "metadata": {},
   "outputs": [],
   "source": [
    "study_hours = [10.0,11.5,9.0,16.0,9.25,1.0,11.5,9.0,8.5,14.5,15.5,\n",
    "               13.75,9.0,8.0,15.5,8.0,9.0,6.0,10.0,12.0,12.5,12.0]\n",
    "grades = [50,50,47,97,49,3,53,42,26,74,82,62,37,15,70,27,36,35,48,52,63,64]"
   ]
  },
  {
   "cell_type": "code",
   "execution_count": null,
   "id": "21273c42",
   "metadata": {},
   "outputs": [],
   "source": [
    "df_students = pd.DataFrame({'Name': ['Dan', 'Joann', 'Pedro', 'Rosie', 'Ethan', 'Vicky', 'Frederic', 'Jimmie', \n",
    "                                     'Rhonda', 'Giovanni', 'Francesca', 'Rajab', 'Naiyana', 'Kian', 'Jenny',\n",
    "                                     'Jakeem','Helena','Ismat','Anila','Skye','Daniel','Aisha'],\n",
    "                            'StudyHours':study_hours,\n",
    "                            'Grade':grades})"
   ]
  },
  {
   "cell_type": "code",
   "execution_count": null,
   "id": "82f98cf1",
   "metadata": {},
   "outputs": [],
   "source": [
    "# 印出前幾個項目\n",
    "df_students.head()\n",
    "# 印出前 N 個項目\n",
    "# df_students.head(N)"
   ]
  },
  {
   "cell_type": "code",
   "execution_count": null,
   "id": "1d2ff177",
   "metadata": {},
   "outputs": [],
   "source": []
  },
  {
   "cell_type": "markdown",
   "id": "656f54d2",
   "metadata": {},
   "source": [
    "iloc 是用 index 去取值"
   ]
  },
  {
   "cell_type": "code",
   "execution_count": null,
   "id": "941df57c",
   "metadata": {},
   "outputs": [],
   "source": [
    "# Get data in the first five rows\n",
    "# 正常的 slice 方法\n",
    "df_students.iloc[0:5]"
   ]
  },
  {
   "cell_type": "code",
   "execution_count": null,
   "id": "82721eca",
   "metadata": {},
   "outputs": [],
   "source": [
    "# iloc 可以用 list 跳著取\n",
    "df_students.iloc[[0,4]]"
   ]
  },
  {
   "cell_type": "code",
   "execution_count": null,
   "id": "4440d608",
   "metadata": {},
   "outputs": [],
   "source": [
    "# iloc 中間有逗點 就代表是下一個維度\n",
    "df_students.iloc[[0,4],[0,2]]"
   ]
  },
  {
   "cell_type": "markdown",
   "id": "cdbefdd8",
   "metadata": {},
   "source": [
    "##### loc 是用 欄位名稱 去取值\n",
    "##### 且前後包含 (大概是因為如果知道了欄位名稱 通常那個東西也會想要取出)"
   ]
  },
  {
   "cell_type": "code",
   "execution_count": null,
   "id": "a3988c39",
   "metadata": {},
   "outputs": [],
   "source": [
    "# 取出欄位為 5 的項目\n",
    "df_students.loc[5]"
   ]
  },
  {
   "cell_type": "code",
   "execution_count": null,
   "id": "fa1b48ff",
   "metadata": {},
   "outputs": [],
   "source": [
    "# 取出欄位為 0~5 的項目\n",
    "df_students.loc[0:5]"
   ]
  },
  {
   "cell_type": "code",
   "execution_count": null,
   "id": "394f953f",
   "metadata": {},
   "outputs": [],
   "source": [
    "# df_students.loc[0,0] # 會跳錯\n",
    "df_students.loc[0,'Grade']"
   ]
  },
  {
   "cell_type": "code",
   "execution_count": null,
   "id": "c6adc793",
   "metadata": {},
   "outputs": [],
   "source": [
    "# 維度的規則跟 iloc 相同\n",
    "df_students.loc[0,['StudyHours','Grade']]"
   ]
  },
  {
   "cell_type": "code",
   "execution_count": null,
   "id": "d893f4de",
   "metadata": {},
   "outputs": [],
   "source": [
    "# 可以像 sql 設定條件\n",
    "# 這幾種語法的作用是一樣的\n",
    "print(df_students[df_students['Name']=='Aisha'])\n",
    "print(\"-----------\")\n",
    "# print(df_students.loc[df_students['Name']=='Aisha']) #上面的比較好用\n",
    "# print(\"-----------\")\n",
    "print(df_students.query('Name==\"Aisha\"'))\n",
    "print(\"-----------\")\n",
    "print(df_students[df_students.Name == 'Aisha'])"
   ]
  },
  {
   "cell_type": "code",
   "execution_count": null,
   "id": "42f16cbd",
   "metadata": {},
   "outputs": [],
   "source": [
    "# 從 csv 檔案中讀取\n",
    "df_students = pd.read_csv('../testing_file/grades.csv',delimiter=',',header='infer')\n",
    "df_students.head()\n",
    "# 尚未研究參數"
   ]
  },
  {
   "cell_type": "markdown",
   "id": "b0464450",
   "metadata": {},
   "source": [
    "Null 欄位處理\n",
    "1. 填值 EX:平均\n",
    "2. 捨棄此筆 data"
   ]
  },
  {
   "cell_type": "code",
   "execution_count": null,
   "id": "69e07d96",
   "metadata": {},
   "outputs": [],
   "source": [
    "# 確定沒有空的欄位 找出空值的欄位\n",
    "df_students.isnull().tail()"
   ]
  },
  {
   "cell_type": "code",
   "execution_count": null,
   "id": "612cb520",
   "metadata": {},
   "outputs": [],
   "source": [
    "# 印出空值的欄位\n",
    "have_NULL_col = df_students.isnull().any(axis=1)\n",
    "df_students[have_NULL_col]"
   ]
  },
  {
   "cell_type": "markdown",
   "id": "9c423d18",
   "metadata": {},
   "source": []
  },
  {
   "cell_type": "code",
   "execution_count": null,
   "id": "a3b862e1",
   "metadata": {},
   "outputs": [],
   "source": [
    "# 1. 幫空值的欄位填值\n",
    "# 範例使用平均\n",
    "df_students.StudyHours = df_students.StudyHours.fillna(df_students.StudyHours.mean())\n",
    "df_students[have_NULL_col]"
   ]
  },
  {
   "cell_type": "code",
   "execution_count": null,
   "id": "9d3539d0",
   "metadata": {},
   "outputs": [],
   "source": [
    "# 2. 捨去有空值的欄位\n",
    "df_students = df_students.dropna(axis=0, how='any')\n",
    "df_students.tail()"
   ]
  },
  {
   "cell_type": "code",
   "execution_count": null,
   "id": "9f05554c",
   "metadata": {},
   "outputs": [],
   "source": [
    "# Series\n",
    "# 這兩種方法都可以\n",
    "passes  = pd.Series(df_students['Grade'] >= 60)\n",
    "print(type(passes))\n",
    "passes_2  = df_students['Grade'] >= 60\n",
    "print(type(passes_2))\n",
    "passes_2.head()"
   ]
  },
  {
   "cell_type": "code",
   "execution_count": null,
   "id": "f6e0665c",
   "metadata": {},
   "outputs": [],
   "source": [
    "# concat 新增一個欄位\n",
    "df_students = pd.concat([df_students, passes.rename(\"Pass\")], axis=1)\n",
    "df_students.head()"
   ]
  },
  {
   "cell_type": "markdown",
   "id": "3bd7452a",
   "metadata": {},
   "source": [
    "統計相關 function"
   ]
  },
  {
   "cell_type": "code",
   "execution_count": null,
   "id": "bbad1844",
   "metadata": {},
   "outputs": [],
   "source": [
    "# groupby\n",
    "print(df_students.groupby(df_students.Pass).Name.count())\n",
    "print(df_students.groupby(df_students.Pass)['StudyHours', 'Grade'].mean())"
   ]
  },
  {
   "cell_type": "code",
   "execution_count": null,
   "id": "0f65f0d1",
   "metadata": {},
   "outputs": [],
   "source": [
    "# sort_values\n",
    "\n",
    "# Create a DataFrame with the data sorted by Grade (descending)\n",
    "df_students = df_students.sort_values('Grade', ascending=False)\n",
    "df_students.head()"
   ]
  }
 ],
 "metadata": {
  "kernelspec": {
   "display_name": "Python 3.7.13 ('base')",
   "language": "python",
   "name": "python3"
  },
  "language_info": {
   "codemirror_mode": {
    "name": "ipython",
    "version": 3
   },
   "file_extension": ".py",
   "mimetype": "text/x-python",
   "name": "python",
   "nbconvert_exporter": "python",
   "pygments_lexer": "ipython3",
   "version": "3.7.13"
  },
  "vscode": {
   "interpreter": {
    "hash": "1ad7bc37b9dbb5fc630683fa6ac3f4a09f3b221e501e9b7b281182d1132c149f"
   }
  }
 },
 "nbformat": 4,
 "nbformat_minor": 5
}
