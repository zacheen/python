{
 "cells": [
  {
   "cell_type": "code",
   "execution_count": null,
   "id": "9e525bcd",
   "metadata": {},
   "outputs": [],
   "source": [
    "import matplotlib.pyplot as plt\n",
    "import cv2\n",
    "import numpy as np"
   ]
  },
  {
   "cell_type": "code",
   "execution_count": null,
   "id": "545f9a60",
   "metadata": {},
   "outputs": [],
   "source": [
    "pic_path = \"./lena_std.tif\""
   ]
  },
  {
   "cell_type": "code",
   "execution_count": null,
   "id": "4f6ebe56",
   "metadata": {},
   "outputs": [],
   "source": [
    "# 讀取\n",
    "cv2_pic = cv2.imread(pic_path)  \n",
    "    # tif 檔記得要加上 , -1 !! (要不然會被自動轉換成 RGB)\n",
    "    # cv2_pic = cv2.imread(pic_path, -1) \n",
    "plt.imshow(cv2_pic)\n",
    "\n",
    "# 如果不是 ipynb 的檔案的話還要再加這個才會顯示出來\n",
    "plt.show()"
   ]
  },
  {
   "cell_type": "code",
   "execution_count": null,
   "id": "b95ad0ee",
   "metadata": {},
   "outputs": [],
   "source": [
    "# 灰階讀取\n",
    "gray_pic = cv2.imread(pic_path, cv2.IMREAD_GRAYSCALE)\n",
    "plt.imshow(gray_pic)"
   ]
  },
  {
   "cell_type": "code",
   "execution_count": null,
   "id": "9cb4df4b",
   "metadata": {},
   "outputs": [],
   "source": [
    "# 寫入\n",
    "# 要注意不是 imsave !! 這是其它套件的 function 名稱\n",
    "cv2.imwrite(pic_path.replace(\".tif\",\"_2.tif\"), cv2_pic)"
   ]
  },
  {
   "cell_type": "code",
   "execution_count": null,
   "id": "ca963375",
   "metadata": {},
   "outputs": [],
   "source": [
    "# tif 檔的默認顏色順序是 RGB\n",
    "# 而 opencv 是 BGR\n",
    "# 所以要調整順序\n",
    "cv2_pic = cv2.cvtColor(cv2_pic, cv2.COLOR_BGR2RGB)\n",
    "plt.imshow(cv2_pic)"
   ]
  },
  {
   "cell_type": "code",
   "execution_count": null,
   "id": "feada1bd",
   "metadata": {},
   "outputs": [],
   "source": [
    "# opencv RGB 轉 gray\n",
    "gray_img = cv2.cvtColor(cv2_pic, cv2.COLOR_BGR2GRAY)\n",
    "plt.imshow(gray_img)"
   ]
  },
  {
   "cell_type": "code",
   "execution_count": null,
   "id": "fca08dd6",
   "metadata": {},
   "outputs": [],
   "source": [
    "# 灰階顯示 gray\n",
    "# 如果丟進去的圖片是彩圖 還是會用彩圖顯示\n",
    "plt.imshow(gray_img, cmap='gray')"
   ]
  },
  {
   "cell_type": "code",
   "execution_count": null,
   "id": "0383e770",
   "metadata": {},
   "outputs": [],
   "source": [
    "#旋轉\n",
    "plt.imshow(cv2.transpose(cv2_pic))"
   ]
  },
  {
   "cell_type": "code",
   "execution_count": null,
   "id": "2ddc2e93",
   "metadata": {},
   "outputs": [],
   "source": [
    "# 翻轉 \n",
    "# 上下翻轉\n",
    "plt.imshow(cv2.flip(cv2_pic, 0))"
   ]
  },
  {
   "cell_type": "code",
   "execution_count": null,
   "id": "0d48cb81",
   "metadata": {},
   "outputs": [],
   "source": [
    "# 翻轉 \n",
    "# 左右翻轉\n",
    "plt.imshow(cv2.flip(cv2_pic, 1))"
   ]
  },
  {
   "cell_type": "code",
   "execution_count": null,
   "id": "fdea13e4",
   "metadata": {},
   "outputs": [],
   "source": [
    "# 二值化 (threshold)\n",
    "ret, threshold_img = cv2.threshold(gray_img, 127, 255, cv2.THRESH_BINARY)\n",
    "# 可以設定的參數 : cv2.THRESH_BINARY_INV, cv2.THRESH_TRUNC, cv2.THRESH_TOZERO, cv2.THRESH_TOZERO_INV\n",
    "# ret, threshold_img = cv2.threshold(gray_img, 127, 255, cv2.THRESH_BINARY_INV)\n",
    "# ret, threshold_img = cv2.threshold(gray_img, 127, 255, cv2.THRESH_TRUNC)\n",
    "# ret, threshold_img = cv2.threshold(gray_img, 127, 255, cv2.THRESH_TOZERO)\n",
    "# ret, threshold_img = cv2.threshold(gray_img, 127, 255, cv2.THRESH_TOZERO_INV)\n",
    "plt.imshow(threshold_img)\n",
    "print(ret) # 目前不知道 ret 的作用\n"
   ]
  },
  {
   "cell_type": "code",
   "execution_count": null,
   "id": "aaa4fec7",
   "metadata": {},
   "outputs": [],
   "source": [
    "# 畫一個大圓與小圓\n",
    "test_shape = np.zeros((50, 100), dtype = 'uint8')\n",
    "test_shape = cv2.circle(test_shape, (25,25), 15, 255, thickness = -1)\n",
    "test_shape = cv2.circle(test_shape, (75,25), 8, 255, thickness = -1)\n",
    "# thickness 如果是數字就不是實心的\n",
    "\n",
    "plt.imshow(test_shape)"
   ]
  },
  {
   "cell_type": "code",
   "execution_count": null,
   "id": "e6dce9e4",
   "metadata": {},
   "outputs": [],
   "source": [
    "# 找尋圖形邊界\n",
    "\n",
    "contours, hierarchy = cv2.findContours(test_shape, cv2.RETR_TREE, cv2.CHAIN_APPROX_SIMPLE)\n",
    "# print(type(contours)) # <class 'list'>\n",
    "# contours = [contour的結果, contour的結果, ...]\n",
    "print(contours[0].shape)\n",
    "\n",
    "# 不懂為什麼下面 convexHull 的結果要轉換 shape 才能用\n",
    "# print(type(contours[0][0][0]))\n",
    "# print(contours[0][0][0].shape)"
   ]
  },
  {
   "cell_type": "code",
   "execution_count": null,
   "id": "73c0a22a",
   "metadata": {},
   "outputs": [],
   "source": [
    "# 畫多邊形的線\n",
    "result_np_array = np.zeros((50, 100), dtype = 'uint8')\n",
    "# pts 可以吃 list 也可以吃 單個圖形\n",
    "# plt.imshow(cv2.polylines(result_np_array, pts=contours[0], isClosed=True, color=255, thickness=3))\n",
    "plt.imshow(cv2.polylines(result_np_array, pts=contours, isClosed=True, color=255, thickness=3))"
   ]
  },
  {
   "cell_type": "code",
   "execution_count": null,
   "id": "191f2748",
   "metadata": {},
   "outputs": [],
   "source": [
    "# # 填滿某個多邊形\n",
    "# cv2.fillPoly\n",
    "result_np_array = np.zeros((50, 100), dtype = 'uint8')\n",
    "plt.imshow(cv2.fillPoly(result_np_array, contours, color = 255))\n",
    "# 填滿 contours 當然應該要跟原本的圖形相同"
   ]
  },
  {
   "cell_type": "code",
   "execution_count": null,
   "id": "9e083f04",
   "metadata": {},
   "outputs": [],
   "source": [
    "# 合併兩個圓的 contour 變成一個\n",
    "two_circle_contour = np.concatenate((contours[0],contours[1]),axis = 0)\n",
    "\n",
    "# 找出凸包\n",
    "two_circle_convex = cv2.convexHull(two_circle_contour)\n",
    "print(two_circle_convex.shape) # 產出的 shape 其實怪怪的，所以畫的時候需要調整形狀"
   ]
  },
  {
   "cell_type": "code",
   "execution_count": null,
   "id": "947fd6ea",
   "metadata": {},
   "outputs": [],
   "source": [
    "# 畫出 contour 的回傳結果 (需要調整形狀!!)\n",
    "two_circle_convex_reshape = [two_circle_convex.reshape(two_circle_convex.shape[0],two_circle_convex.shape[2])]\n",
    "\n",
    "# fillPoly 上面已經有筆記了\n",
    "result_np_array = np.zeros((50, 100), dtype = 'uint8')\n",
    "plt.imshow(cv2.fillPoly(result_np_array, two_circle_convex_reshape, color = 255))"
   ]
  },
  {
   "cell_type": "code",
   "execution_count": null,
   "id": "7c7fa1da",
   "metadata": {},
   "outputs": [],
   "source": [
    "# < floodFill > 油漆桶 填滿相近顏色區域\n",
    "# cv2.floodFill() # 尚未做筆記\n",
    "# https://steam.oxxostudio.tw/category/python/ai/opencv-floodfill.html"
   ]
  }
 ],
 "metadata": {
  "kernelspec": {
   "display_name": "Python 3.7.13 ('base')",
   "language": "python",
   "name": "python3"
  },
  "language_info": {
   "codemirror_mode": {
    "name": "ipython",
    "version": 3
   },
   "file_extension": ".py",
   "mimetype": "text/x-python",
   "name": "python",
   "nbconvert_exporter": "python",
   "pygments_lexer": "ipython3",
   "version": "3.7.13"
  },
  "vscode": {
   "interpreter": {
    "hash": "1ad7bc37b9dbb5fc630683fa6ac3f4a09f3b221e501e9b7b281182d1132c149f"
   }
  }
 },
 "nbformat": 4,
 "nbformat_minor": 5
}
