{
 "cells": [
  {
   "cell_type": "code",
   "execution_count": 1,
   "id": "9e525bcd",
   "metadata": {},
   "outputs": [],
   "source": [
    "import numpy as np\n"
   ]
  },
  {
   "cell_type": "code",
   "execution_count": 2,
   "id": "545f9a60",
   "metadata": {},
   "outputs": [
    {
     "name": "stdout",
     "output_type": "stream",
     "text": [
      "[(slice(1, 3, None), slice(0, 3, None), slice(1, 3, None))]\n",
      "0 npix : 5\n",
      "(3, 4, 4)\n",
      "True\n"
     ]
    }
   ],
   "source": [
    "from scipy.ndimage import find_objects\n",
    "# find_objects 會找出 最小能夠框住 此label的 \"長方形\" 範圍 \n",
    "    # 甚至是 3D 的\n",
    "seg_array = np.array(\n",
    "    [\n",
    "        [\n",
    "            [0,0,0,0],\n",
    "            [0,0,0,0],\n",
    "            [0,0,0,0],\n",
    "            [0,0,0,0]\n",
    "        ],\n",
    "        [\n",
    "            [0,0,0,0],\n",
    "            [0,1,1,0],\n",
    "            [0,1,1,0],\n",
    "            [0,0,0,0]\n",
    "        ],\n",
    "        [\n",
    "            [0,0,1,0],\n",
    "            [0,0,0,0],\n",
    "            [0,0,0,0],\n",
    "            [0,0,0,0]\n",
    "        ]\n",
    "    ]\n",
    ")\n",
    "\n",
    "location = find_objects(seg_array)\n",
    "print(location)\n",
    "\n",
    "for i,slc in enumerate(location):\n",
    "    if slc is not None:\n",
    "        msk = seg_array[slc] == (i+1)\n",
    "        npix = msk.sum()\n",
    "        print(i,\"npix :\",npix)\n",
    "        print(seg_array.shape)\n",
    "        contact_edge = False\n",
    "        if 0 in [each_slc.start for each_slc in slc] :\n",
    "            contact_edge = True\n",
    "        else :\n",
    "            end_pos = seg_array.shape\n",
    "            if slc[0].stop == end_pos[0] or slc[1].stop == end_pos[1] or slc[2].stop == end_pos[2] :\n",
    "                contact_edge = True\n",
    "        print(contact_edge)"
   ]
  }
 ],
 "metadata": {
  "kernelspec": {
   "display_name": "Python 3.7.13 ('base')",
   "language": "python",
   "name": "python3"
  },
  "language_info": {
   "codemirror_mode": {
    "name": "ipython",
    "version": 3
   },
   "file_extension": ".py",
   "mimetype": "text/x-python",
   "name": "python",
   "nbconvert_exporter": "python",
   "pygments_lexer": "ipython3",
   "version": "3.7.13"
  },
  "vscode": {
   "interpreter": {
    "hash": "1ad7bc37b9dbb5fc630683fa6ac3f4a09f3b221e501e9b7b281182d1132c149f"
   }
  }
 },
 "nbformat": 4,
 "nbformat_minor": 5
}
