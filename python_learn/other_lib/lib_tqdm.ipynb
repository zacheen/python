{
 "cells": [
  {
   "cell_type": "code",
   "execution_count": null,
   "id": "9e525bcd",
   "metadata": {},
   "outputs": [],
   "source": [
    "from tqdm import tqdm\n",
    "import time"
   ]
  },
  {
   "cell_type": "code",
   "execution_count": null,
   "id": "950f5d09",
   "metadata": {},
   "outputs": [],
   "source": [
    "list_150 = range(150,300)\n",
    "\n",
    "prog_bar = tqdm(list_150)\n",
    "for num in prog_bar:\n",
    "    time.sleep(0.3)\n",
    "    # 設定要顯示的文字\n",
    "    prog_bar.set_description(\"now index : \"+str(num))\n"
   ]
  },
  {
   "cell_type": "code",
   "execution_count": null,
   "id": "3d44ec23",
   "metadata": {},
   "outputs": [],
   "source": [
    "# 不能在裡面再 print 其它東西\n",
    "# 要不然輸出很醜\n",
    "list_150 = range(150,300)\n",
    "prog_bar = tqdm(list_150)\n",
    "for num in prog_bar:\n",
    "    time.sleep(0.3)\n",
    "    print(\"some text\")\n",
    "    # 設定要顯示的文字\n",
    "    prog_bar.set_description(\"now index : \"+str(num))"
   ]
  }
 ],
 "metadata": {
  "kernelspec": {
   "display_name": "Python 3.7.13 ('base')",
   "language": "python",
   "name": "python3"
  },
  "language_info": {
   "codemirror_mode": {
    "name": "ipython",
    "version": 3
   },
   "file_extension": ".py",
   "mimetype": "text/x-python",
   "name": "python",
   "nbconvert_exporter": "python",
   "pygments_lexer": "ipython3",
   "version": "3.7.13"
  },
  "vscode": {
   "interpreter": {
    "hash": "1ad7bc37b9dbb5fc630683fa6ac3f4a09f3b221e501e9b7b281182d1132c149f"
   }
  }
 },
 "nbformat": 4,
 "nbformat_minor": 5
}
