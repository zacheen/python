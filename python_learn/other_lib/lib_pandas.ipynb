{
 "cells": [
  {
   "cell_type": "code",
   "execution_count": null,
   "id": "9e525bcd",
   "metadata": {},
   "outputs": [],
   "source": [
    "# 通常是處理表格的 lib\n",
    "import pandas as pd"
   ]
  }
 ],
 "metadata": {
  "kernelspec": {
   "display_name": "Python 3.7.13 ('base')",
   "language": "python",
   "name": "python3"
  },
  "language_info": {
   "codemirror_mode": {
    "name": "ipython",
    "version": 3
   },
   "file_extension": ".py",
   "mimetype": "text/x-python",
   "name": "python",
   "nbconvert_exporter": "python",
   "pygments_lexer": "ipython3",
   "version": "3.7.13"
  },
  "vscode": {
   "interpreter": {
    "hash": "1ad7bc37b9dbb5fc630683fa6ac3f4a09f3b221e501e9b7b281182d1132c149f"
   }
  }
 },
 "nbformat": 4,
 "nbformat_minor": 5
}
